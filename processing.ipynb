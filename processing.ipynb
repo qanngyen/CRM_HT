{
  "cells": [
    {
      "cell_type": "code",
      "execution_count": 1,
      "metadata": {
        "id": "ZSbdJ5wFUubj"
      },
      "outputs": [],
      "source": [
        "from imports import *"
      ]
    },
    {
      "cell_type": "code",
      "execution_count": 5,
      "metadata": {},
      "outputs": [],
      "source": [
        "# Đọc dữ liệu từ file csv\n",
        "df = pd.read_csv(r\"D:\\Uni\\TheThirdYear\\kyii\\Chinhthuctrentruong\\phantichpython\\Group_Assign_Final\\Data\\ecommerce.csv\", encoding='ISO-8859-1')"
      ]
    },
    {
      "cell_type": "markdown",
      "metadata": {},
      "source": [
        "## 1. Tiền xử lý dữ liệu"
      ]
    },
    {
      "cell_type": "markdown",
      "metadata": {},
      "source": [
        "### 1.1 Kiểm tra các thông tin tổng quan, thống kê cơ bản"
      ]
    },
    {
      "cell_type": "code",
      "execution_count": 6,
      "metadata": {
        "colab": {
          "base_uri": "https://localhost:8080/"
        },
        "id": "XudcUEOcagTj",
        "outputId": "8041fd7a-1f8c-4b4c-df14-70a46ec6cd2b"
      },
      "outputs": [
        {
          "name": "stdout",
          "output_type": "stream",
          "text": [
            "5 DÒNG ĐẦU TIÊN DỮ LIỆU\n",
            "\n",
            "  InvoiceNo StockCode                          Description  Quantity  \\\n",
            "0    536365    85123A   WHITE HANGING HEART T-LIGHT HOLDER         6   \n",
            "1    536365     71053                  WHITE METAL LANTERN         6   \n",
            "2    536365    84406B       CREAM CUPID HEARTS COAT HANGER         8   \n",
            "3    536365    84029G  KNITTED UNION FLAG HOT WATER BOTTLE         6   \n",
            "4    536365    84029E       RED WOOLLY HOTTIE WHITE HEART.         6   \n",
            "\n",
            "      InvoiceDate  UnitPrice  CustomerID         Country  \n",
            "0  12/1/2010 8:26       2.55     17850.0  United Kingdom  \n",
            "1  12/1/2010 8:26       3.39     17850.0  United Kingdom  \n",
            "2  12/1/2010 8:26       2.75     17850.0  United Kingdom  \n",
            "3  12/1/2010 8:26       3.39     17850.0  United Kingdom  \n",
            "4  12/1/2010 8:26       3.39     17850.0  United Kingdom  \n",
            "----------------------------------------------------------------------------------------------------\n",
            "Thông tin tổng quan dữ liệu\n",
            "\n",
            "<class 'pandas.core.frame.DataFrame'>\n",
            "RangeIndex: 541909 entries, 0 to 541908\n",
            "Data columns (total 8 columns):\n",
            " #   Column       Non-Null Count   Dtype  \n",
            "---  ------       --------------   -----  \n",
            " 0   InvoiceNo    541909 non-null  object \n",
            " 1   StockCode    541909 non-null  object \n",
            " 2   Description  540455 non-null  object \n",
            " 3   Quantity     541909 non-null  int64  \n",
            " 4   InvoiceDate  541909 non-null  object \n",
            " 5   UnitPrice    541909 non-null  float64\n",
            " 6   CustomerID   406829 non-null  float64\n",
            " 7   Country      541909 non-null  object \n",
            "dtypes: float64(2), int64(1), object(5)\n",
            "memory usage: 33.1+ MB\n",
            "None\n",
            "----------------------------------------------------------------------------------------------------\n",
            "Thống kê cơ bản của dữ liệu\n",
            "\n",
            "            Quantity      UnitPrice     CustomerID\n",
            "count  541909.000000  541909.000000  406829.000000\n",
            "mean        9.552250       4.611114   15287.690570\n",
            "std       218.081158      96.759853    1713.600303\n",
            "min    -80995.000000  -11062.060000   12346.000000\n",
            "25%         1.000000       1.250000   13953.000000\n",
            "50%         3.000000       2.080000   15152.000000\n",
            "75%        10.000000       4.130000   16791.000000\n",
            "max     80995.000000   38970.000000   18287.000000\n",
            "----------------------------------------------------------------------------------------------------\n"
          ]
        }
      ],
      "source": [
        "# In 5 dòng đầu tiên\n",
        "print(\"5 DÒNG ĐẦU TIÊN DỮ LIỆU\")\n",
        "print()\n",
        "print(df.head())\n",
        "print(\"-\"*100)\n",
        "\n",
        "# Kiểm tra tổng quan dữ liệu\n",
        "# Biết dữ liệu có thiếu không, đồng nhất về kiểu dữ liệu không,\n",
        "# trùng lặp không hay có ngoại lai hay không\n",
        "print(\"Thông tin tổng quan dữ liệu\")\n",
        "print()\n",
        "print(df.info())\n",
        "print(\"-\"*100)\n",
        "\n",
        "# Thống kê cơ bản của dữ liệu\n",
        "# Hiểu rõ cách phân bố của dữ liệu, có lệch không,\n",
        "# biến động mạnh không, hợp lý không\n",
        "print(\"Thống kê cơ bản của dữ liệu\")\n",
        "print()\n",
        "print(df.describe())\n",
        "print(\"-\" * 100)"
      ]
    },
    {
      "cell_type": "markdown",
      "metadata": {},
      "source": [
        "### 1.2 Kiểm tra dữ liệu bị thiếu không"
      ]
    },
    {
      "cell_type": "code",
      "execution_count": 7,
      "metadata": {
        "colab": {
          "base_uri": "https://localhost:8080/"
        },
        "id": "IF40A3Vlamc6",
        "outputId": "640fef23-a5b8-43de-9345-a2c354c0d447"
      },
      "outputs": [
        {
          "name": "stdout",
          "output_type": "stream",
          "text": [
            "Kiểm tra dữ liệu có thiếu hay không\n",
            "\n",
            "InvoiceNo           0\n",
            "StockCode           0\n",
            "Description      1454\n",
            "Quantity            0\n",
            "InvoiceDate         0\n",
            "UnitPrice           0\n",
            "CustomerID     135080\n",
            "Country             0\n",
            "dtype: int64\n"
          ]
        }
      ],
      "source": [
        "# Dữ liệu có thiểu không?\n",
        "print(\"Kiểm tra dữ liệu có thiếu hay không\")\n",
        "print()\n",
        "print(df.isnull().sum())"
      ]
    },
    {
      "cell_type": "markdown",
      "metadata": {},
      "source": [
        "### 1.3 Kiểm tra dữ liệu có đồng nhất về kiểu dữ liệu"
      ]
    },
    {
      "cell_type": "code",
      "execution_count": 8,
      "metadata": {},
      "outputs": [
        {
          "name": "stdout",
          "output_type": "stream",
          "text": [
            "Kiểm tra đồng nhất dữ liệu\n",
            "\n",
            "Cột 'InvoiceNo' đồng nhất với kiểu dữ liệu: <class 'str'>\n",
            "Cột 'StockCode' đồng nhất với kiểu dữ liệu: <class 'str'>\n",
            "Cột 'Description' có nhiều kiểu dữ liệu:\n",
            "Description\n",
            "<class 'str'>      540455\n",
            "<class 'float'>      1454\n",
            "Name: count, dtype: int64\n",
            "--------------------------------------------------\n",
            "Cột 'Quantity' đồng nhất với kiểu dữ liệu: <class 'int'>\n",
            "Cột 'InvoiceDate' đồng nhất với kiểu dữ liệu: <class 'str'>\n",
            "Cột 'UnitPrice' đồng nhất với kiểu dữ liệu: <class 'float'>\n",
            "Cột 'CustomerID' đồng nhất với kiểu dữ liệu: <class 'float'>\n",
            "Cột 'Country' đồng nhất với kiểu dữ liệu: <class 'str'>\n"
          ]
        }
      ],
      "source": [
        "# Kiểm tra kiểu dữ liệu có đồng nhất không\n",
        "print(\"Kiểm tra đồng nhất dữ liệu\")\n",
        "print()\n",
        "for col in df.columns:\n",
        "    data_types = df[col].apply(type).value_counts()\n",
        "    if len(data_types) > 1:\n",
        "        print(f\"Cột '{col}' có nhiều kiểu dữ liệu:\")\n",
        "        print(data_types)\n",
        "        print(\"-\" * 50)\n",
        "    else:\n",
        "        print(f\"Cột '{col}' đồng nhất với kiểu dữ liệu: {data_types.index[0]}\")"
      ]
    },
    {
      "cell_type": "markdown",
      "metadata": {},
      "source": [
        "### 1.4 Kiểm tra dữ liệu có lặp lại không"
      ]
    },
    {
      "cell_type": "code",
      "execution_count": 9,
      "metadata": {},
      "outputs": [
        {
          "name": "stdout",
          "output_type": "stream",
          "text": [
            "Kiểm tra dữ liệu có trùng lặp hay không\n",
            "\n",
            "Số lượng dữ liệu trùng lặp:  5268\n"
          ]
        }
      ],
      "source": [
        "# Kiểm tra có trùng lặp dữ liệu không\n",
        "print(\"Kiểm tra dữ liệu có trùng lặp hay không\")\n",
        "print()\n",
        "print(\"Số lượng dữ liệu trùng lặp: \",df.duplicated().sum())"
      ]
    },
    {
      "cell_type": "markdown",
      "metadata": {},
      "source": [
        "### 1.5 Kiểm tra dữ liệu vô lý"
      ]
    },
    {
      "cell_type": "code",
      "execution_count": 10,
      "metadata": {},
      "outputs": [
        {
          "data": {
            "text/plain": [
              "Quantity      10624\n",
              "UnitPrice         2\n",
              "CustomerID        0\n",
              "dtype: int64"
            ]
          },
          "execution_count": 10,
          "metadata": {},
          "output_type": "execute_result"
        }
      ],
      "source": [
        "(df.select_dtypes(include=['number']) < 0).sum()"
      ]
    },
    {
      "cell_type": "markdown",
      "metadata": {},
      "source": [
        "# 2. Làm sạch dữ liệu"
      ]
    },
    {
      "cell_type": "markdown",
      "metadata": {},
      "source": [
        "### 2.1 Loại bỏ dữ liệu bị thiếu"
      ]
    },
    {
      "cell_type": "code",
      "execution_count": 11,
      "metadata": {
        "id": "uSBzHp1Xa0Nl"
      },
      "outputs": [],
      "source": [
        "# Xử lý dữ liệu bị thiếu bằng cách xóa các hàng dữ liệu bị thiếu\n",
        "# Xóa các dòng dữ liệu thiếu CustomerID\n",
        "df = df.dropna(subset=['CustomerID'])"
      ]
    },
    {
      "cell_type": "markdown",
      "metadata": {},
      "source": [
        "### 2.2 Loại bỏ dữ liệu bị trùng lặp"
      ]
    },
    {
      "cell_type": "code",
      "execution_count": 12,
      "metadata": {
        "id": "kiP73-7aa3kL"
      },
      "outputs": [],
      "source": [
        "# Xóa các hàng dữ liệu bị lặp hoàn toàn\n",
        "df.drop_duplicates(inplace=True)"
      ]
    },
    {
      "cell_type": "markdown",
      "metadata": {},
      "source": [
        "### 2.3 Đồng nhất dữ liệu cột InvoiceID"
      ]
    },
    {
      "cell_type": "code",
      "execution_count": 13,
      "metadata": {
        "id": "5uFeL2Cya7vx"
      },
      "outputs": [],
      "source": [
        "# Đồng nhất dữ liệu cột InvoiceID để sử dụng cho việc chuyển đổi dữ liệu sau này\n",
        "df['InvoiceNo'] = df['InvoiceNo'].astype(str)\n"
      ]
    },
    {
      "cell_type": "markdown",
      "metadata": {},
      "source": [
        "### 2.4 Loại bỏ dữ liệu vô lý"
      ]
    },
    {
      "cell_type": "code",
      "execution_count": 14,
      "metadata": {
        "id": "xsNvKe2xa-rI"
      },
      "outputs": [],
      "source": [
        "df = df[(df['UnitPrice'] > 0) & (df['Quantity'] > 0)]"
      ]
    },
    {
      "cell_type": "markdown",
      "metadata": {},
      "source": [
        "# 4. Chuyển đổi dữ liệu hóa đơn sang dữ liệu khách hàng"
      ]
    },
    {
      "cell_type": "code",
      "execution_count": 16,
      "metadata": {
        "colab": {
          "base_uri": "https://localhost:8080/"
        },
        "id": "nFsIj4a9bCp0",
        "outputId": "b6046e16-0f4b-4fd0-b37d-461c9f9c8ae9"
      },
      "outputs": [
        {
          "name": "stdout",
          "output_type": "stream",
          "text": [
            "         CustomerID      Recency    Frequency       Monetary\n",
            "count   4338.000000  4338.000000  4338.000000    4338.000000\n",
            "mean   15300.408022    92.536422     4.272015    2048.688081\n",
            "std     1721.808492   100.014169     7.697998    8985.230220\n",
            "min    12346.000000     1.000000     1.000000       3.750000\n",
            "25%    13813.250000    18.000000     1.000000     306.482500\n",
            "50%    15299.500000    51.000000     2.000000     668.570000\n",
            "75%    16778.750000   142.000000     5.000000    1660.597500\n",
            "max    18287.000000   374.000000   209.000000  280206.020000\n",
            "Đã lưu thành công vào file RFM_output.xlsx\n"
          ]
        }
      ],
      "source": [
        "# 1. Chuyển đổi cột InvoiceDate sang kiểu datetime (vì giá trị InvoiceDate đang ở chuỗi string thay vì datetime)\n",
        "df['InvoiceDate'] = pd.to_datetime(df['InvoiceDate'])\n",
        "\n",
        "# 2. Tạo cột Monetary (giá trị đơn hàng)\n",
        "df['TotalPrice'] = df['Quantity'] * df['UnitPrice']\n",
        "\n",
        "# 3. Chọn ngày tham chiếu để tính Recency (thường là ngày lớn nhất + 1)\n",
        "now = df['InvoiceDate'].max() + pd.Timedelta(days=1)\n",
        "\n",
        "# 4. Tính RFM\n",
        "rfm = df.groupby('CustomerID').agg({\n",
        "    'InvoiceDate': lambda x: (now - x.max()).days,  # Recency\n",
        "    'InvoiceNo': 'nunique',                         # Frequency\n",
        "    'TotalPrice': 'sum'                             # Monetary\n",
        "}).reset_index()\n",
        "\n",
        "# 5. Đổi tên cột cho rõ ràng\n",
        "rfm.columns = ['CustomerID', 'Recency', 'Frequency', 'Monetary']\n",
        "\n",
        "# 6. (Tùy chọn) Kiểm tra tổng quan RFM\n",
        "print(rfm.describe())\n",
        "\n",
        "# 7. Ghi ra file Excel\n",
        "rfm.to_csv(r'D:\\Uni\\TheThirdYear\\kyii\\Chinhthuctrentruong\\phantichpython\\Group_Assign_Final\\Data\\ecommerce_rfm.csv', index=False)\n",
        "print(\"Đã lưu thành công vào file RFM_output.xlsx\")\n"
      ]
    },
    {
      "cell_type": "markdown",
      "metadata": {},
      "source": [
        "# 3. Kiểm tra ngoại lai"
      ]
    },
    {
      "cell_type": "markdown",
      "metadata": {},
      "source": [
        "### 3.1 Kiểm tra dữ liệu RFM_output có phân phối chuẩn hay không"
      ]
    },
    {
      "cell_type": "code",
      "execution_count": 17,
      "metadata": {
        "colab": {
          "base_uri": "https://localhost:8080/",
          "height": 1000
        },
        "id": "oLb3pXk_cE5t",
        "outputId": "18d7c005-47a3-4822-8c43-66125e21ddd9"
      },
      "outputs": [
        {
          "data": {
            "image/png": "[encoded data removed]",
            "text/plain": [
              "<Figure size 600x400 with 1 Axes>"
            ]
          },
          "metadata": {},
          "output_type": "display_data"
        },
        {
          "data": {
            "image/png": "[encoded data removed]",
            "text/plain": [
              "<Figure size 600x400 with 1 Axes>"
            ]
          },
          "metadata": {},
          "output_type": "display_data"
        },
        {
          "data": {
            "image/png": "[encoded data removed]",
            "text/plain": [
              "<Figure size 600x400 with 1 Axes>"
            ]
          },
          "metadata": {},
          "output_type": "display_data"
        }
      ],
      "source": [
        "for col in ['Recency', 'Frequency', 'Monetary']:\n",
        "    plt.figure(figsize=(6, 4))\n",
        "    sns.histplot(rfm[col], kde=True)\n",
        "    plt.title(f'Phân phối của {col}')\n",
        "    plt.show()"
      ]
    },
    {
      "cell_type": "markdown",
      "metadata": {},
      "source": [
        "### 3.2 Kiểm tra oulier"
      ]
    },
    {
      "cell_type": "code",
      "execution_count": 18,
      "metadata": {
        "colab": {
          "base_uri": "https://localhost:8080/"
        },
        "id": "XEcFrxg3cwmP",
        "outputId": "3431e7af-6721-4b46-c161-3a5ee8cef10c"
      },
      "outputs": [
        {
          "name": "stdout",
          "output_type": "stream",
          "text": [
            "Cột Recency:\n",
            "  - Giới hạn dưới: -168.00\n",
            "  - Giới hạn trên: 328.00\n",
            "  - Số lượng outlier: 155\n",
            "--------------------------------------------------\n",
            "Cột Frequency:\n",
            "  - Giới hạn dưới: -5.00\n",
            "  - Giới hạn trên: 11.00\n",
            "  - Số lượng outlier: 285\n",
            "--------------------------------------------------\n",
            "Cột Monetary:\n",
            "  - Giới hạn dưới: -1724.69\n",
            "  - Giới hạn trên: 3691.77\n",
            "  - Số lượng outlier: 425\n",
            "--------------------------------------------------\n",
            "Số lượng giá trị âm trong từng cột RFM:\n",
            "Recency      0\n",
            "Frequency    0\n",
            "Monetary     0\n",
            "dtype: int64\n"
          ]
        }
      ],
      "source": [
        "def detect_outliers_iqr(df, column):\n",
        "    Q1 = df[column].quantile(0.25)\n",
        "    Q3 = df[column].quantile(0.75)\n",
        "    IQR = Q3 - Q1\n",
        "    lower_bound = Q1 - 1.5 * IQR\n",
        "    upper_bound = Q3 + 1.5 * IQR\n",
        "\n",
        "    outliers = df[(df[column] < lower_bound) | (df[column] > upper_bound)]\n",
        "    print(f\"Cột {column}:\")\n",
        "    print(f\"  - Giới hạn dưới: {lower_bound:.2f}\")\n",
        "    print(f\"  - Giới hạn trên: {upper_bound:.2f}\")\n",
        "    print(f\"  - Số lượng outlier: {len(outliers)}\")\n",
        "    print(\"-\" * 50)\n",
        "    return outliers\n",
        "\n",
        "# Gọi hàm cho 3 cột RFM\n",
        "outliers_recency = detect_outliers_iqr(rfm, 'Recency')\n",
        "outliers_frequency = detect_outliers_iqr(rfm, 'Frequency')\n",
        "outliers_monetary = detect_outliers_iqr(rfm, 'Monetary')\n",
        "# Kiểm tra xem có giá trị âm trong các cột RFM không\n",
        "negative_values = (rfm[['Recency', 'Frequency', 'Monetary']] < 0).sum()\n",
        "\n",
        "print(\"Số lượng giá trị âm trong từng cột RFM:\")\n",
        "print(negative_values)"
      ]
    },
    {
      "cell_type": "markdown",
      "metadata": {},
      "source": [
        "### 3.3 Loại bỏ outliers"
      ]
    },
    {
      "cell_type": "code",
      "execution_count": 21,
      "metadata": {
        "colab": {
          "base_uri": "https://localhost:8080/"
        },
        "id": "Tr-BW0QCc22K",
        "outputId": "9c76dffa-0885-40d5-f68c-3728f8a34a23"
      },
      "outputs": [
        {
          "name": "stdout",
          "output_type": "stream",
          "text": [
            "Số khách hàng còn lại sau khi loại bỏ outlier: 3604\n",
            "Đã lưu dữ liệu sạch ra file: D:\\Uni\\TheThirdYear\\kyii\\Chinhthuctrentruong\\phantichpython\\Group_Assign_Final\\Data\\ecommerce_rfm_clean.csv\n"
          ]
        }
      ],
      "source": [
        "# Hàm loại bỏ outlier bằng phương pháp IQR\n",
        "def remove_outliers_iqr(df, column):\n",
        "    Q1 = df[column].quantile(0.25)\n",
        "    Q3 = df[column].quantile(0.75)\n",
        "    IQR = Q3 - Q1\n",
        "    lower_bound = Q1 - 1.5 * IQR\n",
        "    upper_bound = Q3 + 1.5 * IQR\n",
        "    return df[(df[column] >= lower_bound) & (df[column] <= upper_bound)]\n",
        "\n",
        "# Tạo bản sao từ RFM gốc\n",
        "rfm_clean = rfm.copy()\n",
        "\n",
        "# Loại bỏ outliers từng cột RFM\n",
        "for col in ['Recency', 'Frequency', 'Monetary']:\n",
        "    rfm_clean = remove_outliers_iqr(rfm_clean, col)\n",
        "\n",
        "# Kiểm tra lại số dòng còn lại\n",
        "print(f\"Số khách hàng còn lại sau khi loại bỏ outlier: {len(rfm_clean)}\")\n",
        "\n",
        "# (Tuỳ chọn) Ghi đè lại vào file Excel\n",
        "output_path = r'D:\\Uni\\TheThirdYear\\kyii\\Chinhthuctrentruong\\phantichpython\\Group_Assign_Final\\Data\\ecommerce_rfm_clean.csv'\n",
        "rfm_clean.to_csv(output_path, index=False)\n",
        "print(f\"Đã lưu dữ liệu sạch ra file: {output_path}\")"
      ]
    },
    {
      "cell_type": "markdown",
      "metadata": {},
      "source": [
        "# 4. Chuẩn hóa dữ liệu"
      ]
    },
    {
      "cell_type": "code",
      "execution_count": 22,
      "metadata": {
        "id": "ZqGgETiydXs7"
      },
      "outputs": [],
      "source": [
        "# Giả sử rfm_clean là DataFrame sau khi loại bỏ outliers\n",
        "scaler = StandardScaler()\n",
        "rfm_scaled = scaler.fit_transform(rfm_clean[['Recency', 'Frequency', 'Monetary']])\n",
        "\n",
        "# Chuyển về DataFrame để dễ sử dụng\n",
        "rfm_scaled_df = pd.DataFrame(rfm_scaled, columns=['Recency', 'Frequency', 'Monetary'])\n",
        "\n",
        "# Nếu muốn gắn lại CustomerID:\n",
        "rfm_scaled_df['CustomerID'] = rfm_clean['CustomerID'].values\n",
        "\n",
        "# Kiểm tra\n",
        "output_path = r'D:\\Uni\\TheThirdYear\\kyii\\Chinhthuctrentruong\\phantichpython\\Group_Assign_Final\\Data\\ecommerce_rfm_scaled.csv'\n",
        "rfm_scaled_df.to_csv(output_path, index=False)"
      ]
    }
  ],
  "metadata": {
    "colab": {
      "provenance": []
    },
    "kernelspec": {
      "display_name": "Python 3",
      "name": "python3"
    },
    "language_info": {
      "codemirror_mode": {
        "name": "ipython",
        "version": 3
      },
      "file_extension": ".py",
      "mimetype": "text/x-python",
      "name": "python",
      "nbconvert_exporter": "python",
      "pygments_lexer": "ipython3",
      "version": "3.11.2"
    }
  },
  "nbformat": 4,
  "nbformat_minor": 0
}
